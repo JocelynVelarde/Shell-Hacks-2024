{
 "cells": [
  {
   "cell_type": "code",
   "execution_count": 50,
   "metadata": {},
   "outputs": [],
   "source": [
    "import os\n",
    "import pickle\n",
    "import cv2\n",
    "import numpy as np\n",
    "from ultralytics import YOLO"
   ]
  },
  {
   "cell_type": "code",
   "execution_count": 41,
   "metadata": {},
   "outputs": [
    {
     "data": {
      "text/plain": [
       "array([[        145,         225,     0.64444, ...,     0.68043,      175.23,      151.84],\n",
       "       [        130,         246,     0.52846, ...,     0.53788,      172.95,       157.2],\n",
       "       [        127,         250,       0.508, ...,     0.50659,       171.6,      159.37],\n",
       "       ...,\n",
       "       [        207,         134,      1.5448, ...,      1.3551,      109.14,      169.13],\n",
       "       [        206,         135,      1.5259, ...,      1.3674,      106.29,      166.98],\n",
       "       [        208,         136,      1.5294, ...,      1.3454,      112.88,      170.13]])"
      ]
     },
     "execution_count": 41,
     "metadata": {},
     "output_type": "execute_result"
    }
   ],
   "source": [
    "filename = 'dataset/Subject1_Fall1/data.pkl'\n",
    "\n",
    "data = pickle.load(open(filename, 'rb'))\n",
    "data = np.array(data)\n",
    "data"
   ]
  },
  {
   "cell_type": "code",
   "execution_count": 71,
   "metadata": {},
   "outputs": [],
   "source": [
    "dataset_dir = 'dataset/'\n",
    "\n",
    "X = []\n",
    "y = []\n",
    "counter = 0\n",
    "\n",
    "for subject_dir in os.listdir(dataset_dir):\n",
    "    label_file, data_file = os.listdir(dataset_dir + subject_dir)\n",
    "    with open(dataset_dir + subject_dir + '/' + data_file, 'rb') as f:\n",
    "        data = pickle.load(f)\n",
    "        data = np.array(data, dtype='float32')\n",
    "    with open(dataset_dir + subject_dir + '/' + label_file, 'rb') as f:\n",
    "        label = pickle.load(f)\n",
    "        label = [np.float16(i) for i in label]\n",
    "    # Append the data and labels to the lists\n",
    "    X.append(data)\n",
    "    y.append(label)\n",
    "\n",
    "# Stack the data and labels\n",
    "X = np.vstack(X, dtype='float32')\n",
    "y = np.hstack(y, dtype='float16')\n",
    "\n",
    "data_dir = 'data/'\n",
    "\n",
    "with open(data_dir + 'data.pkl', 'wb') as f:\n",
    "    pickle.dump(X, f)\n",
    "with open(data_dir + 'label.pkl', 'wb') as f:\n",
    "    pickle.dump(y, f)"
   ]
  },
  {
   "cell_type": "code",
   "execution_count": 73,
   "metadata": {},
   "outputs": [
    {
     "name": "stdout",
     "output_type": "stream",
     "text": [
      "Shape of X before cleaning: (19999, 9)\n",
      "Shape of X after cleaning: (19812, 9)\n",
      "Shape of y before cleaning: (19999,)\n",
      "Shape of y after cleaning: (19812,)\n"
     ]
    }
   ],
   "source": [
    "import pandas as pd\n",
    "\n",
    "# Convert the numpy arrays to pandas DataFrames\n",
    "X_df = pd.DataFrame(X)\n",
    "y_df = pd.DataFrame(y)\n",
    "\n",
    "# Concatenate X and y to ensure rows are dropped from both\n",
    "combined_df = pd.concat([X_df, y_df], axis=1)\n",
    "\n",
    "# Drop rows with NaN values\n",
    "combined_df_clean = combined_df.dropna()\n",
    "\n",
    "# Split the cleaned DataFrame back into X and y\n",
    "X_clean = combined_df_clean.iloc[:, :-1].to_numpy()\n",
    "y_clean = combined_df_clean.iloc[:, -1].to_numpy()\n",
    "\n",
    "print(\"Shape of X before cleaning:\", X.shape)\n",
    "print(\"Shape of X after cleaning:\", X_clean.shape)\n",
    "print(\"Shape of y before cleaning:\", y.shape)\n",
    "print(\"Shape of y after cleaning:\", y_clean.shape)\n",
    "\n",
    "# Save the cleaned data\n",
    "with open(data_dir + 'data.pkl', 'wb') as f:\n",
    "    pickle.dump(X_clean, f)\n",
    "with open(data_dir + 'label.pkl', 'wb') as f:\n",
    "    pickle.dump(y_clean, f)"
   ]
  },
  {
   "cell_type": "code",
   "execution_count": 1,
   "metadata": {},
   "outputs": [
    {
     "name": "stdout",
     "output_type": "stream",
     "text": [
      "False\n"
     ]
    }
   ],
   "source": [
    "import torch\n",
    "print(torch.cuda.is_available())   "
   ]
  }
 ],
 "metadata": {
  "kernelspec": {
   "display_name": "venv",
   "language": "python",
   "name": "python3"
  },
  "language_info": {
   "codemirror_mode": {
    "name": "ipython",
    "version": 3
   },
   "file_extension": ".py",
   "mimetype": "text/x-python",
   "name": "python",
   "nbconvert_exporter": "python",
   "pygments_lexer": "ipython3",
   "version": "3.10.12"
  }
 },
 "nbformat": 4,
 "nbformat_minor": 2
}
