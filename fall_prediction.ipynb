{
 "cells": [
  {
   "cell_type": "code",
   "execution_count": null,
   "metadata": {},
   "outputs": [],
   "source": [
    "import os\n",
    "\n",
    "raw_data_dir = 'Dataset CAUCAFall/CAUCAFall/'\n",
    "dataset_dir = 'dataset/'\n",
    "\n",
    "subjects = sorted(os.listdir(raw_data_dir))\n",
    "\n",
    "for subject in subjects:\n",
    "    subject_dir = os.path.join(raw_data_dir, subject)\n",
    "    falls = sorted(os.listdir(subject_dir))\n",
    "\n",
    "    for fall in falls:\n",
    "        falls_dir = os.path.join(subject_dir, fall)\n",
    "        files = sorted(os.listdir(falls_dir))\n",
    "        images = sorted([os.path.join(falls_dir, f) for f in os.listdir(falls_dir) if f.endswith('.png')])\n",
    "        labels = sorted([os.path.join(falls_dir, f) for f in os.listdir(falls_dir) if f.endswith('.txt')])\n",
    "        \n",
    "        # read the first number which stands for fall classification\n",
    "        # Open the file in read mode\n",
    "        for label in labels:\n",
    "            with open(label, 'r') as file:\n",
    "                line = file.readline()\n",
    "                # Split the line into individual components\n",
    "                numbers = line.split()\n",
    "                # Extract the first number\n",
    "                label = numbers[0]"
   ]
  }
 ],
 "metadata": {
  "language_info": {
   "name": "python"
  }
 },
 "nbformat": 4,
 "nbformat_minor": 2
}
